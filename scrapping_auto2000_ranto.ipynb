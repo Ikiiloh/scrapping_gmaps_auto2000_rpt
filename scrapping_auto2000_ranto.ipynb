{
  "cells": [
    {
      "cell_type": "code",
      "execution_count": 77,
      "metadata": {
        "colab": {
          "base_uri": "https://localhost:8080/"
        },
        "id": "o77VB5Q8b32o",
        "outputId": "14566ec5-c438-49bb-df4c-56ea781174da"
      },
      "outputs": [
        {
          "name": "stdout",
          "output_type": "stream",
          "text": [
            "Requirement already satisfied: google-search-results in /usr/local/lib/python3.11/dist-packages (2.4.2)\n",
            "Requirement already satisfied: requests in /usr/local/lib/python3.11/dist-packages (from google-search-results) (2.32.3)\n",
            "Requirement already satisfied: charset-normalizer<4,>=2 in /usr/local/lib/python3.11/dist-packages (from requests->google-search-results) (3.4.1)\n",
            "Requirement already satisfied: idna<4,>=2.5 in /usr/local/lib/python3.11/dist-packages (from requests->google-search-results) (3.10)\n",
            "Requirement already satisfied: urllib3<3,>=1.21.1 in /usr/local/lib/python3.11/dist-packages (from requests->google-search-results) (2.3.0)\n",
            "Requirement already satisfied: certifi>=2017.4.17 in /usr/local/lib/python3.11/dist-packages (from requests->google-search-results) (2025.1.31)\n",
            "Requirement already satisfied: pandas in /usr/local/lib/python3.11/dist-packages (2.2.2)\n",
            "Requirement already satisfied: numpy>=1.23.2 in /usr/local/lib/python3.11/dist-packages (from pandas) (1.26.4)\n",
            "Requirement already satisfied: python-dateutil>=2.8.2 in /usr/local/lib/python3.11/dist-packages (from pandas) (2.8.2)\n",
            "Requirement already satisfied: pytz>=2020.1 in /usr/local/lib/python3.11/dist-packages (from pandas) (2025.1)\n",
            "Requirement already satisfied: tzdata>=2022.7 in /usr/local/lib/python3.11/dist-packages (from pandas) (2025.1)\n",
            "Requirement already satisfied: six>=1.5 in /usr/local/lib/python3.11/dist-packages (from python-dateutil>=2.8.2->pandas) (1.17.0)\n"
          ]
        }
      ],
      "source": [
        "!pip install google-search-results\n",
        "!pip install pandas"
      ]
    },
    {
      "cell_type": "code",
      "execution_count": 82,
      "metadata": {
        "id": "mkYcYUE4cZFB"
      },
      "outputs": [],
      "source": [
        "from serpapi import GoogleSearch\n",
        "from urllib.parse import *\n",
        "import pandas as pd\n",
        "\n",
        "params = {\n",
        "  \"engine\": \"google_maps\",\n",
        "  \"q\": \"Toyota Auto2000\",\n",
        "  \"ll\": \"@2.105857259955246, 99.82850985180268,14z\",\n",
        "  \"type\": \"search\",\n",
        "  \"api_key\": \"fed644f70c69d0dc4812218d3aca5facd7e4c092c539b7663c52575d3209e76a\"\n",
        "}\n",
        "\n",
        "search = GoogleSearch(params)\n",
        "\n",
        "lIdx = 0\n",
        "lSum = 10\n",
        "local_results = []\n",
        "\n",
        "while lIdx <= lSum:\n",
        "  results =search.get_dict()\n",
        "  for Result in results[\"local_results\"]:\n",
        "    lIdx += 1\n",
        "\n",
        "    if lIdx <= lSum:\n",
        "      if Result [\"reviews\"]<200:\n",
        "        lIdx += 1\n",
        "        continue\n",
        "      local_results.append({'Nama': Result[\"title\"],\n",
        "                            'data_id': Result[\"data_id\"],\n",
        "                            'total_reviews': Result[\"reviews\"]});\n",
        "    if \"next\" in results.get(\"serpapi_pagination\",{}):\n",
        "      search.params_dict.update(dict(parse_qsl(urlsplit(results.get(\"serpapi_pagination\").get(\"next\")).query)))\n",
        "    else:\n",
        "      break"
      ]
    },
    {
      "cell_type": "code",
      "execution_count": 80,
      "metadata": {
        "colab": {
          "base_uri": "https://localhost:8080/"
        },
        "id": "j02RFVFTcmji",
        "outputId": "5cbb05ce-fd06-4dba-d45c-c9f6377fbbfd"
      },
      "outputs": [
        {
          "name": "stdout",
          "output_type": "stream",
          "text": [
            "{'Nama': 'Toyota Auto2000 Rantauprapat', 'data_id': '0x302da1ac3eab9c87:0x979ac3ca48e16c17', 'total_reviews': 241}\n",
            "{'Nama': 'Toyota Auto2000 Krakatau Medan', 'data_id': '0x30313218b0962b9f:0xca9a1dd3262081a8', 'total_reviews': 437}\n",
            "{'Nama': 'Toyota Auto2000 Medan Gatot Subroto', 'data_id': '0x30312e382266ab0b:0x5d7f19b5766fd368', 'total_reviews': 1554}\n",
            "{'Nama': 'Toyota Auto2000 Medan Binjai', 'data_id': '0x3031297318f78655:0x9442a1d44c7c1c27', 'total_reviews': 644}\n",
            "{'Nama': 'Toyota Auto2000 Sisingamangaraja', 'data_id': '0x3031304f7df093f1:0x5fd182e5fd5513b', 'total_reviews': 968}\n",
            "{'Nama': 'AUTO 2000 Marelan', 'data_id': '0x3036cd5d54715efb:0xd5d7796e14b91d76', 'total_reviews': 512}\n"
          ]
        }
      ],
      "source": [
        "for LR in local_results:\n",
        "  print(LR)"
      ]
    },
    {
      "cell_type": "code",
      "execution_count": null,
      "metadata": {
        "colab": {
          "base_uri": "https://localhost:8080/"
        },
        "id": "6LBi3BoYEQEv",
        "outputId": "dab2c037-62d6-4982-e57d-9a91aa315623"
      },
      "outputs": [
        {
          "name": "stdout",
          "output_type": "stream",
          "text": [
            "                    Nama_Showroom                   name  rating  \\\n",
            "0    Toyota Auto2000 Rantauprapat       Akbar Dalimunthe     5.0   \n",
            "1    Toyota Auto2000 Rantauprapat        Habibi Nasution     5.0   \n",
            "2    Toyota Auto2000 Rantauprapat  Aslim Harapan Ritonga     5.0   \n",
            "3    Toyota Auto2000 Rantauprapat           Rakimen Raki     5.0   \n",
            "4    Toyota Auto2000 Rantauprapat           Bayu Anugrah     5.0   \n",
            "..                            ...                    ...     ...   \n",
            "195  Toyota Auto2000 Rantauprapat          David Tarigan     5.0   \n",
            "196  Toyota Auto2000 Rantauprapat             Daud Diven     5.0   \n",
            "197  Toyota Auto2000 Rantauprapat          Sarlan Sirait     5.0   \n",
            "198  Toyota Auto2000 Rantauprapat          Arkan Ritonga     5.0   \n",
            "199  Toyota Auto2000 Rantauprapat         Marhot Harahap     5.0   \n",
            "\n",
            "                                                review  \n",
            "0                                    Service excellent  \n",
            "1                                    SERVICE EXCELLENT  \n",
            "2                                      AUTO2000 ManTAF  \n",
            "3                                             The best  \n",
            "4                        Auto 2000 is the best forever  \n",
            "..                                                 ...  \n",
            "195                                             Mantap  \n",
            "196                                          No Review  \n",
            "197                                          No Review  \n",
            "198  Beli mobil di auto2000 rantauprapat sama sales...  \n",
            "199                         Prosesnya cepat dan tepat.  \n",
            "\n",
            "[200 rows x 4 columns]\n",
            "Reviews saved to Toyota Auto2000 Rantauprapat_reviews.xlsx\n"
          ]
        }
      ],
      "source": [
        "# 2. Fetch reviews for the specific location (up to 200)\n",
        "data = {'Nama_Showroom': [], 'name': [], 'rating': [], 'review': []}\n",
        "review_params = {\n",
        "    \"engine\": \"google_maps_reviews\",\n",
        "    \"data_id\": \"0x302da1ac3eab9c87:0x979ac3ca48e16c17\",  # Use the extracted data_id\n",
        "    \"api_key\" : \"use-your-gmaps-API\"\n",
        "}\n",
        "\n",
        "review_search = GoogleSearch(review_params)\n",
        "reviews_fetched = 0\n",
        "max_reviews = 200\n",
        "\n",
        "while reviews_fetched < max_reviews:\n",
        "    review_results = review_search.get_dict()\n",
        "    if review_results.get(\"reviews\"):  # Check if reviews are present in the current page\n",
        "        for review in review_results[\"reviews\"]:\n",
        "            if reviews_fetched < max_reviews:  # Check review limit before adding\n",
        "                data['Nama_Showroom'].append(place_name)  # Use the correct place name\n",
        "                data['name'].append(review.get(\"user\", {}).get(\"name\", \"Unknown User\")) # Handle potential missing data\n",
        "                data['rating'].append(review.get(\"rating\")) # Handle potential missing data\n",
        "                data['review'].append(review.get(\"snippet\", \"No Review\")) # Handle potential missing data\n",
        "                reviews_fetched += 1\n",
        "            else:\n",
        "                break  # Exit inner loop when review limit is hit\n",
        "    else:\n",
        "      print(\"No reviews found for this page or place.\")\n",
        "      break # Exit outer loop if no reviews\n",
        "\n",
        "    if \"next\" in review_results.get(\"serpapi_pagination\", {}):\n",
        "        review_search.params_dict.update(dict(parse_qsl(urlsplit(review_results.get(\"serpapi_pagination\").get(\"next\")).query)))\n",
        "    else:\n",
        "        print(\"No more review pages found.\")\n",
        "        break  # Exit outer loop when no more pages\n",
        "\n",
        "dfScrap = pd.DataFrame(data)\n",
        "print(dfScrap) # Print the DataFrame for verification\n",
        "\n",
        "# 3. Save to Excel\n",
        "output_filename = f\"{search_query}_reviews.xlsx\"\n",
        "dfScrap.to_excel(output_filename, index=False)\n",
        "print(f\"Reviews saved to {output_filename}\")"
      ]
    },
    {
      "cell_type": "code",
      "execution_count": null,
      "metadata": {
        "colab": {
          "base_uri": "https://localhost:8080/"
        },
        "id": "5Hl2XQUc_3Wk",
        "outputId": "53010715-4b32-4f04-9efb-8fe42de76012"
      },
      "outputs": [
        {
          "name": "stdout",
          "output_type": "stream",
          "text": [
            "Data berhasil disimpan di auto2000_rantauprapat_reviews.xlsx\n"
          ]
        }
      ],
      "source": [
        "# Contoh data hanya untuk Auto2000 Rantauprapat\n",
        "data = {\n",
        "    'Nama_Showroom': ['Auto2000 Rantauprapat'] * 250,\n",
        "    'name': [f'User{i}' for i in range(250)],\n",
        "    'rating': [4] * 250,\n",
        "    'review': [f'Review content {i}' for i in range(250)]\n",
        "}\n",
        "\n",
        "# Membuat DataFrame dari data\n",
        "dfScrap = pd.DataFrame(data)\n",
        "\n",
        "# Filter data untuk 'Auto2000 Rantauprapat' dan ambil 200 data pertama\n",
        "filtered_df = dfScrap[dfScrap['Nama_Showroom'] == 'Auto2000 Rantauprapat'].head(200)\n",
        "\n",
        "# Simpan hasil filter ke file .xlsx\n",
        "output_path = 'auto2000_rantauprapat_reviews.xlsx'\n",
        "filtered_df.to_excel(output_path, index=False, engine='openpyxl')\n",
        "\n",
        "print(f\"Data berhasil disimpan di {output_path}\")\n"
      ]
    }
  ],
  "metadata": {
    "colab": {
      "provenance": []
    },
    "kernelspec": {
      "display_name": "Python 3",
      "name": "python3"
    },
    "language_info": {
      "name": "python"
    }
  },
  "nbformat": 4,
  "nbformat_minor": 0
}
